{
 "cells": [
  {
   "cell_type": "code",
   "execution_count": 2,
   "id": "5f83b296",
   "metadata": {},
   "outputs": [],
   "source": [
    "import pandas as pd\n",
    "import os\n",
    "from sqlalchemy import create_engine\n",
    "import logging\n",
    "import time\n",
    "\n",
    "\n",
    "\n",
    "logging.basicConfig(\n",
    "    filename=\"logs/ingestion_db.log\",\n",
    "    level=logging.DEBUG,\n",
    "    format=\"%(asctime)s - %(levelname)s - %(message)s\"\n",
    ")\n",
    "\n",
    "engine = create_engine('sqlite:///inventory.db')\n",
    "\n",
    "def ingest_db(df, table_name, engine):\n",
    "    ''' this function will ingest the dataframe into database table'''\n",
    "    \n",
    "    df.to_sql(table_name, con = engine, if_exists = 'replace', index = False, chunksize=1000)\n",
    "\n",
    "def load_raw_data():\n",
    "    ''' this function will load csv as dataframe and ingest into db'''\n",
    "    \n",
    "    start = time.time()\n",
    "    for file in os.listdir('Data'):\n",
    "        if '.csv' in file:\n",
    "            df = pd.read_csv('Data/'+file)\n",
    "            logging.info(f'Ingesting {file} in db')\n",
    "            ingest_db(df, file[:-4], engine)\n",
    "    \n",
    "    end = time.time()\n",
    "    total_time = (end-start)/60\n",
    "    \n",
    "    logging.info('--------Ingestion Complete--------')\n",
    "    logging.info(f'\\nTotal Time Taken: {total_time} minutes')\n",
    "                 \n",
    "                 \n",
    "                 \n",
    "if __name__ == '__main__':\n",
    "     load_raw_data()"
   ]
  },
  {
   "cell_type": "code",
   "execution_count": null,
   "id": "a2459670",
   "metadata": {},
   "outputs": [],
   "source": []
  },
  {
   "cell_type": "code",
   "execution_count": null,
   "id": "7ab2552a",
   "metadata": {},
   "outputs": [],
   "source": []
  }
 ],
 "metadata": {
  "kernelspec": {
   "display_name": "Python 3 (ipykernel)",
   "language": "python",
   "name": "python3"
  },
  "language_info": {
   "codemirror_mode": {
    "name": "ipython",
    "version": 3
   },
   "file_extension": ".py",
   "mimetype": "text/x-python",
   "name": "python",
   "nbconvert_exporter": "python",
   "pygments_lexer": "ipython3",
   "version": "3.9.7"
  }
 },
 "nbformat": 4,
 "nbformat_minor": 5
}
